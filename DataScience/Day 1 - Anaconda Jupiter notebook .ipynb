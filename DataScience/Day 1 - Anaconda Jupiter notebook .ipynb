{
 "cells": [
  {
   "cell_type": "code",
   "execution_count": 6,
   "id": "f1ffac05",
   "metadata": {},
   "outputs": [
    {
     "name": "stdout",
     "output_type": "stream",
     "text": [
      "Hello World!\n"
     ]
    }
   ],
   "source": [
    "print(\"Hello World!\")"
   ]
  },
  {
   "cell_type": "markdown",
   "id": "a25da2e2",
   "metadata": {},
   "source": [
    "10+15"
   ]
  },
  {
   "cell_type": "code",
   "execution_count": null,
   "id": "b89317de",
   "metadata": {},
   "outputs": [],
   "source": []
  },
  {
   "cell_type": "code",
   "execution_count": 5,
   "id": "ddaef61e",
   "metadata": {},
   "outputs": [
    {
     "name": "stdout",
     "output_type": "stream",
     "text": [
      "Gunasheel Doddamani\n"
     ]
    }
   ],
   "source": [
    "print(\"Gunasheel Doddamani\")"
   ]
  },
  {
   "cell_type": "code",
   "execution_count": 2,
   "id": "a7ddce76",
   "metadata": {},
   "outputs": [
    {
     "data": {
      "text/plain": [
       "25"
      ]
     },
     "execution_count": 2,
     "metadata": {},
     "output_type": "execute_result"
    }
   ],
   "source": [
    "10+15"
   ]
  },
  {
   "cell_type": "code",
   "execution_count": 7,
   "id": "a383e026",
   "metadata": {},
   "outputs": [
    {
     "data": {
      "text/plain": [
       "15"
      ]
     },
     "execution_count": 7,
     "metadata": {},
     "output_type": "execute_result"
    }
   ],
   "source": [
    "25-10"
   ]
  },
  {
   "cell_type": "markdown",
   "id": "76da006c",
   "metadata": {},
   "source": [
    "ctrl+enter- execute/run the cell\n",
    "shift+enter- execute /run the cell\n",
    "\n",
    "esc+a- to add a cell above the current cell\n",
    "esc+b- to add a cell below the current cell\n",
    "\n",
    "esc+d- to delete the current cell"
   ]
  },
  {
   "cell_type": "markdown",
   "id": "a3dd09c5",
   "metadata": {},
   "source": []
  }
 ],
 "metadata": {
  "kernelspec": {
   "display_name": "Python 3 (ipykernel)",
   "language": "python",
   "name": "python3"
  },
  "language_info": {
   "codemirror_mode": {
    "name": "ipython",
    "version": 3
   },
   "file_extension": ".py",
   "mimetype": "text/x-python",
   "name": "python",
   "nbconvert_exporter": "python",
   "pygments_lexer": "ipython3",
   "version": "3.11.5"
  }
 },
 "nbformat": 4,
 "nbformat_minor": 5
}
